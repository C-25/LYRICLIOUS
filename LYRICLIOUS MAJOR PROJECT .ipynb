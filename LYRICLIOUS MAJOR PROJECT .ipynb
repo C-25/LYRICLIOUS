{
 "cells": [
  {
   "cell_type": "code",
   "execution_count": 1,
   "id": "c52f7d70",
   "metadata": {},
   "outputs": [],
   "source": [
    "from tkinter import *\n",
    "import tkinter.messagebox\n"
   ]
  },
  {
   "cell_type": "code",
   "execution_count": 2,
   "id": "209ff62b",
   "metadata": {},
   "outputs": [],
   "source": [
    "root = Tk()"
   ]
  },
  {
   "cell_type": "code",
   "execution_count": 3,
   "id": "958b10a4",
   "metadata": {},
   "outputs": [],
   "source": [
    "\n",
    "img=PhotoImage(file='C:\\\\Users\\\\CHIRAG\\\\Desktop\\\\tic tac toe\\\\tic tac toe.png')\n",
    "root.iconphoto(False,img)\n"
   ]
  },
  {
   "cell_type": "code",
   "execution_count": 4,
   "id": "263d83bf",
   "metadata": {},
   "outputs": [
    {
     "data": {
      "text/plain": [
       "''"
      ]
     },
     "execution_count": 4,
     "metadata": {},
     "output_type": "execute_result"
    }
   ],
   "source": [
    "root.title('Tic-Tac-Toe')"
   ]
  },
  {
   "cell_type": "code",
   "execution_count": 5,
   "id": "93c2e33e",
   "metadata": {},
   "outputs": [
    {
     "data": {
      "text/plain": [
       "''"
      ]
     },
     "execution_count": 5,
     "metadata": {},
     "output_type": "execute_result"
    }
   ],
   "source": [
    "root.resizable(False,False)"
   ]
  },
  {
   "cell_type": "code",
   "execution_count": 6,
   "id": "c2fd9fb1",
   "metadata": {},
   "outputs": [],
   "source": [
    "click = True\n",
    "\n",
    "count = 0"
   ]
  },
  {
   "cell_type": "code",
   "execution_count": 7,
   "id": "ffc829eb",
   "metadata": {},
   "outputs": [],
   "source": [
    "btn1 = StringVar()\n",
    "btn2 = StringVar()\n",
    "btn3 = StringVar()\n",
    "btn4 = StringVar()\n",
    "btn5 = StringVar()\n",
    "btn6 = StringVar()\n",
    "btn7 = StringVar()\n",
    "btn8 = StringVar()\n",
    "btn9 = StringVar()"
   ]
  },
  {
   "cell_type": "code",
   "execution_count": 8,
   "id": "b45d92ed",
   "metadata": {},
   "outputs": [],
   "source": [
    "xPhoto = PhotoImage(file = 'C:\\\\Users\\\\CHIRAG\\\\Desktop\\\\tic tac toe\\\\x.png')\n",
    "root.iconphoto(False,img)\n",
    "oPhoto = PhotoImage(file = 'C:\\\\Users\\\\CHIRAG\\\\Desktop\\\\tic tac toe\\\\o.png')\n",
    "root.iconphoto(False,img)\n"
   ]
  },
  {
   "cell_type": "code",
   "execution_count": 9,
   "id": "f76f2f4c",
   "metadata": {},
   "outputs": [],
   "source": [
    "def play():\n",
    "    button1 = Button(root,height=9,width=19,bd=.5,relief = 'ridge',bg = '#f2e6ff',textvariable = btn1,\n",
    "                     command=lambda: press(1,0,0)) \n",
    "    button1.grid(row=0,column=0)\n",
    "\n",
    "    button2 = Button(root,height=9,width=19,bd = .5,relief = 'ridge',bg = '#f2e6ff',textvariable = btn2,\n",
    "                     command=lambda: press(2,0,1))\n",
    "    button2.grid(row=0,column=1)\n",
    "\n",
    "    button3 = Button(root,height=9,width=19,bd = .5,relief = 'ridge',bg = '#f2e6ff',textvariable = btn3,\n",
    "                     command=lambda: press(3,0,2))\n",
    "    button3.grid(row=0,column=2)\n",
    "\n",
    "    button4 = Button(root,height=9,width=19,bd = .5,relief = 'ridge',bg = '#d9b3ff',textvariable = btn4,\n",
    "                     command=lambda: press(4,1,0))\n",
    "    button4.grid(row=1,column=0)\n",
    "\n",
    "    button5 = Button(root,height=9,width=19,bd = .5,relief = 'ridge',bg = '#d9b3ff',textvariable = btn5,\n",
    "                     command=lambda: press(5,1,1))\n",
    "    button5.grid(row=1,column=1)\n",
    "\n",
    "    button6 = Button(root,height=9,width=19,bd = .5,relief = 'ridge',bg = '#d9b3ff',textvariable = btn6,\n",
    "                     command=lambda: press(6,1,2))\n",
    "    button6.grid(row=1,column=2)\n",
    "\n",
    "    button7 = Button(root,height=9,width=19,bd = .5,relief = 'ridge',bg = '#bf80ff',textvariable = btn7,\n",
    "                     command=lambda: press(7,2,0))\n",
    "    button7.grid(row=2,column=0)\n",
    "\n",
    "    button8 = Button(root,height=9,width=19,bd = .5,relief = 'ridge',bg = '#bf80ff',textvariable = btn8,\n",
    "                     command=lambda: press(8,2,1))\n",
    "    button8.grid(row=2,column=1)\n",
    "\n",
    "    button9 = Button(root,height=9,width=19,bd = .5,relief = 'ridge',bg = '#bf80ff',textvariable = btn9,\n",
    "                     command=lambda: press(9,2,2))\n",
    "    button9.grid(row=2,column=2)\n"
   ]
  },
  {
   "cell_type": "code",
   "execution_count": 10,
   "id": "6321df1c",
   "metadata": {},
   "outputs": [],
   "source": [
    "def press(num,r,c):\n",
    "    global click,count\n",
    "    if click == True:\n",
    "        labelPhoto = Label(root,image = xPhoto)\n",
    "        labelPhoto.grid(row=r,column=c)\n",
    "        if num == 1:\n",
    "            btn1.set('X')\n",
    "        elif num == 2:\n",
    "            btn2.set('X')\n",
    "        elif num == 3:\n",
    "            btn3.set('X')\n",
    "        elif num == 4:\n",
    "            btn4.set('X')\n",
    "        elif num == 5:\n",
    "            btn5.set('X')\n",
    "        elif num == 6:\n",
    "            btn6.set('X')\n",
    "        elif num == 7:\n",
    "            btn7.set('X')\n",
    "        elif num == 8:\n",
    "            btn8.set('X')\n",
    "        else:\n",
    "            btn9.set('X')\n",
    "        count += 1\n",
    "        click = False\n",
    "        checkWin()\n",
    "        \n",
    "    else:\n",
    "        labelPhoto = Label(root,image = oPhoto)\n",
    "        labelPhoto.grid(row=r,column=c)\n",
    "        if num == 1:\n",
    "            btn1.set('O')\n",
    "        elif num == 2:\n",
    "            btn2.set('O')\n",
    "        elif num == 3:\n",
    "            btn3.set('O')\n",
    "        elif num == 4:\n",
    "            btn4.set('O')\n",
    "        elif num == 5:\n",
    "            btn5.set('O')\n",
    "        elif num == 6:\n",
    "            btn6.set('O')\n",
    "        elif num == 7:\n",
    "            btn7.set('O')\n",
    "        elif num == 8:\n",
    "            btn8.set('O')\n",
    "        else:\n",
    "            btn9.set('O')\n",
    "        count += 1\n",
    "        click = True\n",
    "        checkWin()\n",
    "       \n",
    "        "
   ]
  },
  {
   "cell_type": "code",
   "execution_count": 11,
   "id": "a7a622bc",
   "metadata": {},
   "outputs": [],
   "source": [
    "def checkWin():\n",
    "    global count,click\n",
    "    \n",
    "    if (btn1.get() == 'X' and btn2.get() == 'X' and btn3.get() == 'X' or\n",
    "        btn4.get() == 'X' and btn5.get() == 'X' and btn6.get() == 'X' or\n",
    "        btn7.get() == 'X' and btn8.get() == 'X' and btn9.get() == 'X' or\n",
    "        btn1.get() == 'X' and btn4.get() == 'X' and btn7.get() == 'X' or\n",
    "        btn2.get() == 'X' and btn5.get() == 'X' and btn8.get() == 'X' or\n",
    "        btn3.get() == 'X' and btn6.get() == 'X' and btn9.get() == 'X' or\n",
    "        btn1.get() == 'X' and btn5.get() == 'X' and btn9.get() == 'X' or\n",
    "        btn3.get() == 'X' and btn5.get() == 'X' and btn7.get() == 'X'):\n",
    "        tkinter.messagebox.showinfo(\"Tic-Tac-Toe\", 'X Wins !')\n",
    "        click = True\n",
    "        count = 0\n",
    "        clear()\n",
    "        play()\n",
    "        \n",
    "    elif (btn1.get() == 'O' and btn2.get() == 'O' and btn3.get() == 'O' or\n",
    "          btn4.get() == 'O' and btn5.get() == 'O' and btn6.get() == 'O' or\n",
    "          btn7.get() == 'O' and btn8.get() == 'O' and btn9.get() == 'O' or\n",
    "          btn1.get() == 'O' and btn4.get() == 'O' and btn7.get() == 'O' or\n",
    "          btn2.get() == 'O' and btn5.get() == 'O' and btn8.get() == 'O' or\n",
    "          btn3.get() == 'O' and btn6.get() == 'O' and btn9.get() == 'O' or\n",
    "          btn1.get() == 'O' and btn5.get() == 'O' and btn9.get() == 'O' or\n",
    "          btn3.get() == 'O' and btn5.get() == 'O' and btn7.get() == 'O'):\n",
    "          tkinter.messagebox.showinfo(\"Tic-Tac-Toe\", 'O Wins !')\n",
    "          count = 0\n",
    "          clear()\n",
    "          play()\n",
    "          \n",
    "    elif (count == 9):\n",
    "         tkinter.messagebox.showinfo(\"Tic-Tac-Toe\", 'Tie Game!')\n",
    "         click = True\n",
    "         count = 0\n",
    "         clear()\n",
    "         play()\n"
   ]
  },
  {
   "cell_type": "code",
   "execution_count": 12,
   "id": "22e7ca82",
   "metadata": {},
   "outputs": [],
   "source": [
    "def clear():\n",
    "    btn1.set('')\n",
    "    btn2.set('')\n",
    "    btn3.set('')\n",
    "    btn4.set('')\n",
    "    btn5.set('')\n",
    "    btn6.set('')\n",
    "    btn7.set('')\n",
    "    btn8.set('')\n",
    "    btn9.set('')\n",
    "\n",
    "play()\n",
    "\n",
    "root.mainloop()"
   ]
  }
 ],
 "metadata": {
  "kernelspec": {
   "display_name": "Python 3",
   "language": "python",
   "name": "python3"
  },
  "language_info": {
   "codemirror_mode": {
    "name": "ipython",
    "version": 3
   },
   "file_extension": ".py",
   "mimetype": "text/x-python",
   "name": "python",
   "nbconvert_exporter": "python",
   "pygments_lexer": "ipython3",
   "version": "3.8.8"
  }
 },
 "nbformat": 4,
 "nbformat_minor": 5
}

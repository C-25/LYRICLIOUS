{
 "cells": [
  {
   "cell_type": "code",
   "execution_count": null,
   "id": "a424783a",
   "metadata": {},
   "outputs": [],
   "source": [
    "\n",
    "from tkinter import*\n",
    "from time import strftime\n",
    "root=Tk()\n",
    "root.title(\"clock widget by chirag\")\n",
    "def time():\n",
    "    string=strftime('%H-%M-%S %p')\n",
    "    label.config(text=string)\n",
    "    label.after(1000,time)    \n",
    "label=Label(root,font=(\"arial\",80),background=\"black\",foreground=\"cyan\")\n",
    "label.pack(anchor=\"center\")\n",
    "time()\n",
    "mainloop()\n"
   ]
  }
 ],
 "metadata": {
  "kernelspec": {
   "display_name": "Python 3",
   "language": "python",
   "name": "python3"
  },
  "language_info": {
   "codemirror_mode": {
    "name": "ipython",
    "version": 3
   },
   "file_extension": ".py",
   "mimetype": "text/x-python",
   "name": "python",
   "nbconvert_exporter": "python",
   "pygments_lexer": "ipython3",
   "version": "3.8.8"
  }
 },
 "nbformat": 4,
 "nbformat_minor": 5
}
